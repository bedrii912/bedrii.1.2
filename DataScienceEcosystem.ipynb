{
 "cells": [
  {
   "cell_type": "markdown",
   "id": "aa796d8d-ac93-44ec-afb5-51d10ba8dd7b",
   "metadata": {},
   "source": [
    "# Data Science Tools and Ecosystem"
   ]
  },
  {
   "cell_type": "markdown",
   "id": "c4db685f-52aa-43c1-9251-ebd07e58d78b",
   "metadata": {},
   "source": [
    "In this notebook, Data Science Tools and Ecosystem are summarized."
   ]
  },
  {
   "cell_type": "markdown",
   "id": "f6e28cdf-c86f-444d-af2c-1c01e8498c95",
   "metadata": {},
   "source": [
    "**Objectives:**\n",
    "* List popular languages for Data Science\n",
    "* List commonly used libraries used by Data Scientists\n",
    "* Some examples of evaluating arithmetic expressions in Python\n",
    "* Convert Minutes into Hours using Pyhon "
   ]
  },
  {
   "cell_type": "markdown",
   "id": "84615aa7-bbdb-4193-9689-00ca6a125902",
   "metadata": {},
   "source": [
    "Some of the popular languages that Data Scientists use are:\n",
    "1. Python\n",
    "2. Julia\n",
    "3. R\n",
    "4. SQL"
   ]
  },
  {
   "cell_type": "markdown",
   "id": "0da935e8-35e3-45d6-9828-5502862027e7",
   "metadata": {},
   "source": [
    "Some of the commonly used libraries used by Data Scientists include:\n",
    "1. NumPy\n",
    "2. Pandas\n",
    "3. Matplotlib\n",
    "4. Scikit-learn\n",
    "5. TensoFlow"
   ]
  },
  {
   "cell_type": "markdown",
   "id": "4e1fbd39-ef05-47d4-95c3-f79c9021eb74",
   "metadata": {},
   "source": [
    "| Data Science Tools |\n",
    "|--------------------|\n",
    "| Jupyter Notebook   |\n",
    "| RStudio            |\n",
    "| VS COde            |"
   ]
  },
  {
   "cell_type": "markdown",
   "id": "5710cca3-cd03-404e-813d-84b069f07a98",
   "metadata": {},
   "source": [
    "### Below are a few examples of evaluating arithmetic expressions in Python\n",
    "- 9 + 3 = 12\n",
    "- 5 - 3 = 2\n",
    "- 5 * 8 = 40\n",
    "- 12 / 3 = 4.0\n",
    "- 2 ** 3 = 8"
   ]
  },
  {
   "cell_type": "code",
   "execution_count": 2,
   "id": "b34f50b9-6584-4fa7-9edf-61042451fc78",
   "metadata": {},
   "outputs": [
    {
     "data": {
      "text/plain": [
       "17"
      ]
     },
     "execution_count": 2,
     "metadata": {},
     "output_type": "execute_result"
    }
   ],
   "source": [
    "(3*4)+5 \n",
    "# This a simple arithmetic expression to mutiply then add integers"
   ]
  },
  {
   "cell_type": "code",
   "execution_count": 4,
   "id": "03433224-9623-4fc4-bea6-813995d610ed",
   "metadata": {},
   "outputs": [
    {
     "name": "stdout",
     "output_type": "stream",
     "text": [
      "3.3333333333333335\n"
     ]
    }
   ],
   "source": [
    "minutes = 200\n",
    "hours =minutes / 60\n",
    "print (hours)\n",
    "# This will convert 200 minutes to hours by diving by 60"
   ]
  },
  {
   "cell_type": "markdown",
   "id": "7412691f-e93e-4122-9d48-8062a0488a43",
   "metadata": {},
   "source": [
    "## Author\n",
    "Badri Albadri "
   ]
  }
 ],
 "metadata": {
  "kernelspec": {
   "display_name": "anaconda-2024.02-py310",
   "language": "python",
   "name": "conda-env-anaconda-2024.02-py310-py"
  },
  "language_info": {
   "codemirror_mode": {
    "name": "ipython",
    "version": 3
   },
   "file_extension": ".py",
   "mimetype": "text/x-python",
   "name": "python",
   "nbconvert_exporter": "python",
   "pygments_lexer": "ipython3",
   "version": "3.10.14"
  }
 },
 "nbformat": 4,
 "nbformat_minor": 5
}
